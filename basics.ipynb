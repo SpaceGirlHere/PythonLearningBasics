{
 "cells": [
  {
   "cell_type": "markdown",
   "metadata": {},
   "source": [
    "# Introduction to Python for Physics and Data Analysis\n",
    "\n",
    "## Welcome to Python Learning!\n",
    "\n",
    "### What is Python?\n",
    "\n",
    "Python is a powerful and versatile programming language that's great for beginners and professionals alike. In this notebook, we'll explore some basic concepts that will help you on your journey in physics and data analysis.\n",
    "\n",
    "## Section 1: Variables and Arithmetic\n",
    "\n",
    "Let's start by learning about variables and basic arithmetic operations.\n"
   ]
  },
  {
   "cell_type": "code",
   "execution_count": 7,
   "metadata": {},
   "outputs": [
    {
     "name": "stdout",
     "output_type": "stream",
     "text": [
      "The distance traveled by light in 3600 seconds is: 1080000000000.0 meters\n"
     ]
    }
   ],
   "source": [
    "# Define variables\n",
    "speed_of_light = 3.00e8  # meters per second\n",
    "seconds=60\n",
    "minutes=60\n",
    "hour=1\n",
    "time = hour*minutes*seconds  #  Time in seconds\n",
    "\n",
    "# Calculate distance traveled by light\n",
    "distance = speed_of_light * time\n",
    "\n",
    "# Print the result\n",
    "print(\"The distance traveled by light in\", time, \"seconds is:\", distance, \"meters\")\n",
    "# Calculate distance\n",
    "distance = speed_of_light * time\n"
   ]
  },
  {
   "cell_type": "code",
   "execution_count": 8,
   "metadata": {},
   "outputs": [
    {
     "name": "stdout",
     "output_type": "stream",
     "text": [
      "The average density of the celestial body is: 1280000000000.0 kg/m^3\n"
     ]
    }
   ],
   "source": [
    "# Constants \n",
    "mass_of_celestial_body = 3.2e24  # mass of the celestial body in kg\n",
    "volume_of_celestial_body = 2.5e12  # volume of the celestial body in cubic meters\n",
    "\n",
    "# Calculate average density\n",
    "density_of_celestial_body = mass_of_celestial_body / volume_of_celestial_body\n",
    "\n",
    "# Print the result\n",
    "print(\"The average density of the celestial body is:\", density_of_celestial_body, \"kg/m^3\")\n"
   ]
  },
  {
   "cell_type": "markdown",
   "metadata": {},
   "source": [
    "# Exploring Lists and Loops in Python\n",
    "\n",
    "## Lists\n",
    "\n",
    "### What is a List?\n",
    "\n",
    "In Python, a **list** is like a container that can hold many things. You can put different types of stuff in it, like numbers, words, or even other lists!\n",
    "\n"
   ]
  },
  {
   "cell_type": "code",
   "execution_count": 17,
   "metadata": {},
   "outputs": [
    {
     "name": "stdout",
     "output_type": "stream",
     "text": [
      "First planet is  Mercury\n",
      "Third planet is  Earth\n"
     ]
    }
   ],
   "source": [
    "# Example of a list\n",
    "planets = ['Mercury', 'Venus', 'Earth', 'Mars', 'Jupiter']\n",
    "# Accessing elements in a list\n",
    "first_planet = planets[0]\n",
    "third_planet = planets[2]\n",
    "print(\"First planet is \", first_planet)\n",
    "print(\"Third planet is \", third_planet)"
   ]
  },
  {
   "cell_type": "code",
   "execution_count": 14,
   "metadata": {},
   "outputs": [
    {
     "name": "stdout",
     "output_type": "stream",
     "text": [
      "First planet is  Shiny Venus\n"
     ]
    }
   ],
   "source": [
    "# Modifying and adding elements\n",
    "planets[1] = 'Shiny Venus'\n",
    "planets.append('Saturn')\n",
    "print(\"First planet is \", planets[1])"
   ]
  },
  {
   "cell_type": "code",
   "execution_count": 15,
   "metadata": {},
   "outputs": [],
   "source": [
    "# Removing an element from a list\n",
    "removed_planet = planets.pop(3)\n"
   ]
  },
  {
   "cell_type": "markdown",
   "metadata": {},
   "source": [
    "# Loops\n",
    "\n",
    "### What is a Loop?\n",
    "A loop is like a auto repeat button for your code. It helps you do things over and over without writing the same code again and again.\n",
    "\n",
    "### Using a for Loop\n",
    "You can use a for loop to go through each thing in a list and do something with it."
   ]
  },
  {
   "cell_type": "code",
   "execution_count": 18,
   "metadata": {},
   "outputs": [
    {
     "name": "stdout",
     "output_type": "stream",
     "text": [
      "Planets in our solar system:\n",
      "Mercury\n",
      "Venus\n",
      "Earth\n",
      "Mars\n",
      "Jupiter\n"
     ]
    }
   ],
   "source": [
    "# Using a for loop to print each planet\n",
    "print(\"Planets in our solar system:\")\n",
    "for planet in planets:\n",
    "    print(planet)\n"
   ]
  }
 ],
 "metadata": {
  "kernelspec": {
   "display_name": "base",
   "language": "python",
   "name": "python3"
  },
  "language_info": {
   "codemirror_mode": {
    "name": "ipython",
    "version": 3
   },
   "file_extension": ".py",
   "mimetype": "text/x-python",
   "name": "python",
   "nbconvert_exporter": "python",
   "pygments_lexer": "ipython3",
   "version": "3.9.13"
  }
 },
 "nbformat": 4,
 "nbformat_minor": 2
}
