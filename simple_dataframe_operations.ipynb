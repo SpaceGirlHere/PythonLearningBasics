{
 "cells": [
  {
   "cell_type": "markdown",
   "metadata": {},
   "source": [
    "# DataFrame Operations with pandas\n",
    "\n",
    "## Pandas: A Brief Overview\n",
    "\n",
    "[Pandas](https://pandas.pydata.org/) is a powerful and widely used Python library for data manipulation and analysis. It provides easy-to-use data structures, such as DataFrame, designed for working with structured data seamlessly. Pandas is particularly useful for tasks like cleaning, exploring, and analyzing datasets.\n",
    "\n",
    "## Relevance in Astrophysics\n",
    "\n",
    "In physics, where data comes in various formats and structures, Pandas proves to be an invaluable tool. Its DataFrame allows astronomers and researchers to organize, filter, and analyze data efficiently. Whether dealing with celestial body properties, observational data, or simulations, Pandas simplifies the process of handling astrophysical data.\n",
    "\n",
    "## Exploring DataFrame Operations\n",
    "\n",
    "Here we'll explore basic DataFrame operations using Pandas with simple dataset. The dataset contains information about celestial bodies, and we'll perform operations like sorting by distance, filtering bodies with known temperatures, calculating statistics, and adding a new column based on size categories.\n"
   ]
  },
  {
   "cell_type": "markdown",
   "metadata": {},
   "source": [
    "#### Importing Pandas"
   ]
  },
  {
   "cell_type": "code",
   "execution_count": 1,
   "metadata": {},
   "outputs": [],
   "source": [
    "import pandas as pd\n"
   ]
  },
  {
   "cell_type": "markdown",
   "metadata": {},
   "source": [
    "#### Creating the DataFrame"
   ]
  },
  {
   "cell_type": "code",
   "execution_count": 2,
   "metadata": {},
   "outputs": [],
   "source": [
    "# Creating a DataFrame with data\n",
    "data = {\n",
    "    'Celestial Body': ['Sun', 'Proxima Centauri', 'Andromeda Galaxy', 'Sirius', 'Betelgeuse'],\n",
    "    'Distance (light-years)': [0, 4.24, 2.537e6, 8.6, 642.5],\n",
    "    'Average Temperature (K)': [5778, 3040, None, 9940, 3600],\n",
    "    'Diameter (solar radii)': [1, 0.141, None, 1.711, 887]\n",
    "}\n",
    "\n",
    "celestial_bodies_df = pd.DataFrame(data)\n"
   ]
  },
  {
   "cell_type": "markdown",
   "metadata": {},
   "source": [
    "#### # Viewing the DataFrame\n"
   ]
  },
  {
   "cell_type": "code",
   "execution_count": 3,
   "metadata": {},
   "outputs": [
    {
     "data": {
      "text/html": [
       "<div>\n",
       "<style scoped>\n",
       "    .dataframe tbody tr th:only-of-type {\n",
       "        vertical-align: middle;\n",
       "    }\n",
       "\n",
       "    .dataframe tbody tr th {\n",
       "        vertical-align: top;\n",
       "    }\n",
       "\n",
       "    .dataframe thead th {\n",
       "        text-align: right;\n",
       "    }\n",
       "</style>\n",
       "<table border=\"1\" class=\"dataframe\">\n",
       "  <thead>\n",
       "    <tr style=\"text-align: right;\">\n",
       "      <th></th>\n",
       "      <th>Celestial Body</th>\n",
       "      <th>Distance (light-years)</th>\n",
       "      <th>Average Temperature (K)</th>\n",
       "      <th>Diameter (solar radii)</th>\n",
       "    </tr>\n",
       "  </thead>\n",
       "  <tbody>\n",
       "    <tr>\n",
       "      <th>0</th>\n",
       "      <td>Sun</td>\n",
       "      <td>0.00</td>\n",
       "      <td>5778.0</td>\n",
       "      <td>1.000</td>\n",
       "    </tr>\n",
       "    <tr>\n",
       "      <th>1</th>\n",
       "      <td>Proxima Centauri</td>\n",
       "      <td>4.24</td>\n",
       "      <td>3040.0</td>\n",
       "      <td>0.141</td>\n",
       "    </tr>\n",
       "    <tr>\n",
       "      <th>2</th>\n",
       "      <td>Andromeda Galaxy</td>\n",
       "      <td>2537000.00</td>\n",
       "      <td>NaN</td>\n",
       "      <td>NaN</td>\n",
       "    </tr>\n",
       "    <tr>\n",
       "      <th>3</th>\n",
       "      <td>Sirius</td>\n",
       "      <td>8.60</td>\n",
       "      <td>9940.0</td>\n",
       "      <td>1.711</td>\n",
       "    </tr>\n",
       "    <tr>\n",
       "      <th>4</th>\n",
       "      <td>Betelgeuse</td>\n",
       "      <td>642.50</td>\n",
       "      <td>3600.0</td>\n",
       "      <td>887.000</td>\n",
       "    </tr>\n",
       "  </tbody>\n",
       "</table>\n",
       "</div>"
      ],
      "text/plain": [
       "     Celestial Body  Distance (light-years)  Average Temperature (K)  \\\n",
       "0               Sun                    0.00                   5778.0   \n",
       "1  Proxima Centauri                    4.24                   3040.0   \n",
       "2  Andromeda Galaxy              2537000.00                      NaN   \n",
       "3            Sirius                    8.60                   9940.0   \n",
       "4        Betelgeuse                  642.50                   3600.0   \n",
       "\n",
       "   Diameter (solar radii)  \n",
       "0                   1.000  \n",
       "1                   0.141  \n",
       "2                     NaN  \n",
       "3                   1.711  \n",
       "4                 887.000  "
      ]
     },
     "execution_count": 3,
     "metadata": {},
     "output_type": "execute_result"
    }
   ],
   "source": [
    "# Viewing the DataFrame\n",
    "celestial_bodies_df\n"
   ]
  },
  {
   "cell_type": "markdown",
   "metadata": {},
   "source": [
    "#### Sorting by Distance"
   ]
  },
  {
   "cell_type": "code",
   "execution_count": 4,
   "metadata": {},
   "outputs": [
    {
     "data": {
      "text/html": [
       "<div>\n",
       "<style scoped>\n",
       "    .dataframe tbody tr th:only-of-type {\n",
       "        vertical-align: middle;\n",
       "    }\n",
       "\n",
       "    .dataframe tbody tr th {\n",
       "        vertical-align: top;\n",
       "    }\n",
       "\n",
       "    .dataframe thead th {\n",
       "        text-align: right;\n",
       "    }\n",
       "</style>\n",
       "<table border=\"1\" class=\"dataframe\">\n",
       "  <thead>\n",
       "    <tr style=\"text-align: right;\">\n",
       "      <th></th>\n",
       "      <th>Celestial Body</th>\n",
       "      <th>Distance (light-years)</th>\n",
       "      <th>Average Temperature (K)</th>\n",
       "      <th>Diameter (solar radii)</th>\n",
       "    </tr>\n",
       "  </thead>\n",
       "  <tbody>\n",
       "    <tr>\n",
       "      <th>0</th>\n",
       "      <td>Sun</td>\n",
       "      <td>0.00</td>\n",
       "      <td>5778.0</td>\n",
       "      <td>1.000</td>\n",
       "    </tr>\n",
       "    <tr>\n",
       "      <th>1</th>\n",
       "      <td>Proxima Centauri</td>\n",
       "      <td>4.24</td>\n",
       "      <td>3040.0</td>\n",
       "      <td>0.141</td>\n",
       "    </tr>\n",
       "    <tr>\n",
       "      <th>3</th>\n",
       "      <td>Sirius</td>\n",
       "      <td>8.60</td>\n",
       "      <td>9940.0</td>\n",
       "      <td>1.711</td>\n",
       "    </tr>\n",
       "    <tr>\n",
       "      <th>4</th>\n",
       "      <td>Betelgeuse</td>\n",
       "      <td>642.50</td>\n",
       "      <td>3600.0</td>\n",
       "      <td>887.000</td>\n",
       "    </tr>\n",
       "    <tr>\n",
       "      <th>2</th>\n",
       "      <td>Andromeda Galaxy</td>\n",
       "      <td>2537000.00</td>\n",
       "      <td>NaN</td>\n",
       "      <td>NaN</td>\n",
       "    </tr>\n",
       "  </tbody>\n",
       "</table>\n",
       "</div>"
      ],
      "text/plain": [
       "     Celestial Body  Distance (light-years)  Average Temperature (K)  \\\n",
       "0               Sun                    0.00                   5778.0   \n",
       "1  Proxima Centauri                    4.24                   3040.0   \n",
       "3            Sirius                    8.60                   9940.0   \n",
       "4        Betelgeuse                  642.50                   3600.0   \n",
       "2  Andromeda Galaxy              2537000.00                      NaN   \n",
       "\n",
       "   Diameter (solar radii)  \n",
       "0                   1.000  \n",
       "1                   0.141  \n",
       "3                   1.711  \n",
       "4                 887.000  \n",
       "2                     NaN  "
      ]
     },
     "execution_count": 4,
     "metadata": {},
     "output_type": "execute_result"
    }
   ],
   "source": [
    "# Sorting by distance\n",
    "sorted_df = celestial_bodies_df.sort_values(by='Distance (light-years)')\n",
    "sorted_df\n"
   ]
  },
  {
   "cell_type": "markdown",
   "metadata": {},
   "source": [
    "#### Data Filtering with pandas"
   ]
  },
  {
   "cell_type": "code",
   "execution_count": 5,
   "metadata": {},
   "outputs": [
    {
     "data": {
      "text/html": [
       "<div>\n",
       "<style scoped>\n",
       "    .dataframe tbody tr th:only-of-type {\n",
       "        vertical-align: middle;\n",
       "    }\n",
       "\n",
       "    .dataframe tbody tr th {\n",
       "        vertical-align: top;\n",
       "    }\n",
       "\n",
       "    .dataframe thead th {\n",
       "        text-align: right;\n",
       "    }\n",
       "</style>\n",
       "<table border=\"1\" class=\"dataframe\">\n",
       "  <thead>\n",
       "    <tr style=\"text-align: right;\">\n",
       "      <th></th>\n",
       "      <th>Celestial Body</th>\n",
       "      <th>Distance (light-years)</th>\n",
       "      <th>Average Temperature (K)</th>\n",
       "      <th>Diameter (solar radii)</th>\n",
       "    </tr>\n",
       "  </thead>\n",
       "  <tbody>\n",
       "    <tr>\n",
       "      <th>0</th>\n",
       "      <td>Sun</td>\n",
       "      <td>0.00</td>\n",
       "      <td>5778.0</td>\n",
       "      <td>1.000</td>\n",
       "    </tr>\n",
       "    <tr>\n",
       "      <th>1</th>\n",
       "      <td>Proxima Centauri</td>\n",
       "      <td>4.24</td>\n",
       "      <td>3040.0</td>\n",
       "      <td>0.141</td>\n",
       "    </tr>\n",
       "    <tr>\n",
       "      <th>3</th>\n",
       "      <td>Sirius</td>\n",
       "      <td>8.60</td>\n",
       "      <td>9940.0</td>\n",
       "      <td>1.711</td>\n",
       "    </tr>\n",
       "    <tr>\n",
       "      <th>4</th>\n",
       "      <td>Betelgeuse</td>\n",
       "      <td>642.50</td>\n",
       "      <td>3600.0</td>\n",
       "      <td>887.000</td>\n",
       "    </tr>\n",
       "  </tbody>\n",
       "</table>\n",
       "</div>"
      ],
      "text/plain": [
       "     Celestial Body  Distance (light-years)  Average Temperature (K)  \\\n",
       "0               Sun                    0.00                   5778.0   \n",
       "1  Proxima Centauri                    4.24                   3040.0   \n",
       "3            Sirius                    8.60                   9940.0   \n",
       "4        Betelgeuse                  642.50                   3600.0   \n",
       "\n",
       "   Diameter (solar radii)  \n",
       "0                   1.000  \n",
       "1                   0.141  \n",
       "3                   1.711  \n",
       "4                 887.000  "
      ]
     },
     "execution_count": 5,
     "metadata": {},
     "output_type": "execute_result"
    }
   ],
   "source": [
    "# Filtering bodies with known temperatures\n",
    "known_temperatures_df = celestial_bodies_df.dropna(subset=['Average Temperature (K)'])\n",
    "known_temperatures_df\n"
   ]
  },
  {
   "cell_type": "markdown",
   "metadata": {},
   "source": [
    "#### data statistics with pandas"
   ]
  },
  {
   "cell_type": "code",
   "execution_count": 6,
   "metadata": {},
   "outputs": [
    {
     "data": {
      "text/html": [
       "<div>\n",
       "<style scoped>\n",
       "    .dataframe tbody tr th:only-of-type {\n",
       "        vertical-align: middle;\n",
       "    }\n",
       "\n",
       "    .dataframe tbody tr th {\n",
       "        vertical-align: top;\n",
       "    }\n",
       "\n",
       "    .dataframe thead th {\n",
       "        text-align: right;\n",
       "    }\n",
       "</style>\n",
       "<table border=\"1\" class=\"dataframe\">\n",
       "  <thead>\n",
       "    <tr style=\"text-align: right;\">\n",
       "      <th></th>\n",
       "      <th>Distance (light-years)</th>\n",
       "      <th>Average Temperature (K)</th>\n",
       "      <th>Diameter (solar radii)</th>\n",
       "    </tr>\n",
       "  </thead>\n",
       "  <tbody>\n",
       "    <tr>\n",
       "      <th>count</th>\n",
       "      <td>5.000000e+00</td>\n",
       "      <td>4.000000</td>\n",
       "      <td>4.000000</td>\n",
       "    </tr>\n",
       "    <tr>\n",
       "      <th>mean</th>\n",
       "      <td>5.075311e+05</td>\n",
       "      <td>5589.500000</td>\n",
       "      <td>222.463000</td>\n",
       "    </tr>\n",
       "    <tr>\n",
       "      <th>std</th>\n",
       "      <td>1.134508e+06</td>\n",
       "      <td>3131.583359</td>\n",
       "      <td>443.025132</td>\n",
       "    </tr>\n",
       "    <tr>\n",
       "      <th>min</th>\n",
       "      <td>0.000000e+00</td>\n",
       "      <td>3040.000000</td>\n",
       "      <td>0.141000</td>\n",
       "    </tr>\n",
       "    <tr>\n",
       "      <th>25%</th>\n",
       "      <td>4.240000e+00</td>\n",
       "      <td>3460.000000</td>\n",
       "      <td>0.785250</td>\n",
       "    </tr>\n",
       "    <tr>\n",
       "      <th>50%</th>\n",
       "      <td>8.600000e+00</td>\n",
       "      <td>4689.000000</td>\n",
       "      <td>1.355500</td>\n",
       "    </tr>\n",
       "    <tr>\n",
       "      <th>75%</th>\n",
       "      <td>6.425000e+02</td>\n",
       "      <td>6818.500000</td>\n",
       "      <td>223.033250</td>\n",
       "    </tr>\n",
       "    <tr>\n",
       "      <th>max</th>\n",
       "      <td>2.537000e+06</td>\n",
       "      <td>9940.000000</td>\n",
       "      <td>887.000000</td>\n",
       "    </tr>\n",
       "  </tbody>\n",
       "</table>\n",
       "</div>"
      ],
      "text/plain": [
       "       Distance (light-years)  Average Temperature (K)  Diameter (solar radii)\n",
       "count            5.000000e+00                 4.000000                4.000000\n",
       "mean             5.075311e+05              5589.500000              222.463000\n",
       "std              1.134508e+06              3131.583359              443.025132\n",
       "min              0.000000e+00              3040.000000                0.141000\n",
       "25%              4.240000e+00              3460.000000                0.785250\n",
       "50%              8.600000e+00              4689.000000                1.355500\n",
       "75%              6.425000e+02              6818.500000              223.033250\n",
       "max              2.537000e+06              9940.000000              887.000000"
      ]
     },
     "execution_count": 6,
     "metadata": {},
     "output_type": "execute_result"
    }
   ],
   "source": [
    "# Calculating statistics\n",
    "statistics = celestial_bodies_df.describe()\n",
    "statistics\n"
   ]
  },
  {
   "cell_type": "markdown",
   "metadata": {},
   "source": [
    "#### Adding a New Column 'Size Category'"
   ]
  },
  {
   "cell_type": "code",
   "execution_count": 7,
   "metadata": {},
   "outputs": [
    {
     "data": {
      "text/html": [
       "<div>\n",
       "<style scoped>\n",
       "    .dataframe tbody tr th:only-of-type {\n",
       "        vertical-align: middle;\n",
       "    }\n",
       "\n",
       "    .dataframe tbody tr th {\n",
       "        vertical-align: top;\n",
       "    }\n",
       "\n",
       "    .dataframe thead th {\n",
       "        text-align: right;\n",
       "    }\n",
       "</style>\n",
       "<table border=\"1\" class=\"dataframe\">\n",
       "  <thead>\n",
       "    <tr style=\"text-align: right;\">\n",
       "      <th></th>\n",
       "      <th>Celestial Body</th>\n",
       "      <th>Distance (light-years)</th>\n",
       "      <th>Average Temperature (K)</th>\n",
       "      <th>Diameter (solar radii)</th>\n",
       "      <th>Size Category</th>\n",
       "    </tr>\n",
       "  </thead>\n",
       "  <tbody>\n",
       "    <tr>\n",
       "      <th>0</th>\n",
       "      <td>Sun</td>\n",
       "      <td>0.00</td>\n",
       "      <td>5778.0</td>\n",
       "      <td>1.000</td>\n",
       "      <td>Small</td>\n",
       "    </tr>\n",
       "    <tr>\n",
       "      <th>1</th>\n",
       "      <td>Proxima Centauri</td>\n",
       "      <td>4.24</td>\n",
       "      <td>3040.0</td>\n",
       "      <td>0.141</td>\n",
       "      <td>Small</td>\n",
       "    </tr>\n",
       "    <tr>\n",
       "      <th>2</th>\n",
       "      <td>Andromeda Galaxy</td>\n",
       "      <td>2537000.00</td>\n",
       "      <td>NaN</td>\n",
       "      <td>NaN</td>\n",
       "      <td>Large</td>\n",
       "    </tr>\n",
       "    <tr>\n",
       "      <th>3</th>\n",
       "      <td>Sirius</td>\n",
       "      <td>8.60</td>\n",
       "      <td>9940.0</td>\n",
       "      <td>1.711</td>\n",
       "      <td>Large</td>\n",
       "    </tr>\n",
       "    <tr>\n",
       "      <th>4</th>\n",
       "      <td>Betelgeuse</td>\n",
       "      <td>642.50</td>\n",
       "      <td>3600.0</td>\n",
       "      <td>887.000</td>\n",
       "      <td>Large</td>\n",
       "    </tr>\n",
       "  </tbody>\n",
       "</table>\n",
       "</div>"
      ],
      "text/plain": [
       "     Celestial Body  Distance (light-years)  Average Temperature (K)  \\\n",
       "0               Sun                    0.00                   5778.0   \n",
       "1  Proxima Centauri                    4.24                   3040.0   \n",
       "2  Andromeda Galaxy              2537000.00                      NaN   \n",
       "3            Sirius                    8.60                   9940.0   \n",
       "4        Betelgeuse                  642.50                   3600.0   \n",
       "\n",
       "   Diameter (solar radii) Size Category  \n",
       "0                   1.000         Small  \n",
       "1                   0.141         Small  \n",
       "2                     NaN         Large  \n",
       "3                   1.711         Large  \n",
       "4                 887.000         Large  "
      ]
     },
     "execution_count": 7,
     "metadata": {},
     "output_type": "execute_result"
    }
   ],
   "source": [
    "# Adding a new column 'Size Category'\n",
    "size_threshold = 1.5\n",
    "celestial_bodies_df['Size Category'] = ['Small' if diameter and diameter < size_threshold else 'Large' for diameter in celestial_bodies_df['Diameter (solar radii)']]\n",
    "celestial_bodies_df\n"
   ]
  }
 ],
 "metadata": {
  "kernelspec": {
   "display_name": "base",
   "language": "python",
   "name": "python3"
  },
  "language_info": {
   "codemirror_mode": {
    "name": "ipython",
    "version": 3
   },
   "file_extension": ".py",
   "mimetype": "text/x-python",
   "name": "python",
   "nbconvert_exporter": "python",
   "pygments_lexer": "ipython3",
   "version": "3.9.13"
  }
 },
 "nbformat": 4,
 "nbformat_minor": 2
}
