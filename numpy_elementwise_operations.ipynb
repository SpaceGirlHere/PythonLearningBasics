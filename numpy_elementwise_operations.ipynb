{
 "cells": [
  {
   "cell_type": "markdown",
   "metadata": {},
   "source": [
    "# Usage NumPy \n",
    "\n",
    "## Setup\n",
    "\n",
    "Before we begin, make sure you have NumPy installed. If not, you can install it by running the following command:"
   ]
  },
  {
   "cell_type": "code",
   "execution_count": null,
   "metadata": {},
   "outputs": [],
   "source": [
    "!pip install numpy"
   ]
  },
  {
   "cell_type": "markdown",
   "metadata": {},
   "source": [
    "#### let's explore a basic example using NumPy!\n",
    "\n",
    "import the numpy as np, so that we can call everywhere as np"
   ]
  },
  {
   "cell_type": "code",
   "execution_count": 1,
   "metadata": {},
   "outputs": [],
   "source": [
    "import numpy as np\n"
   ]
  },
  {
   "cell_type": "markdown",
   "metadata": {},
   "source": [
    "#### Basic NumPy Operations"
   ]
  },
  {
   "cell_type": "code",
   "execution_count": 2,
   "metadata": {},
   "outputs": [
    {
     "name": "stdout",
     "output_type": "stream",
     "text": [
      "Array A: [1 2 3 4 5]\n",
      "Array B: [ 2  4  6  8 10]\n",
      "Array A + Array B: [ 3  6  9 12 15]\n",
      "Array A * Array B: [ 2  8 18 32 50]\n",
      "Square Root of Array A: [1.         1.41421356 1.73205081 2.         2.23606798]\n"
     ]
    }
   ],
   "source": [
    "# Create NumPy arrays\n",
    "array_a = np.array([1, 2, 3, 4, 5])\n",
    "array_b = np.array([2, 4, 6, 8, 10])\n",
    "print(\"Array A:\", array_a)\n",
    "print(\"Array B:\", array_b)\n",
    "\n",
    "# Element-wise addition\n",
    "result_addition = array_a + array_b\n",
    "print(\"Array A + Array B:\", result_addition)\n",
    "\n",
    "# Element-wise multiplication\n",
    "result_multiplication = array_a * array_b\n",
    "print(\"Array A * Array B:\", result_multiplication)\n",
    "\n",
    "# Element-wise square root\n",
    "result_sqrt = np.sqrt(array_a)\n",
    "print(\"Square Root of Array A:\", result_sqrt)\n"
   ]
  },
  {
   "cell_type": "markdown",
   "metadata": {},
   "source": [
    "### Matrix Operations with NumPy\n"
   ]
  },
  {
   "cell_type": "code",
   "execution_count": 3,
   "metadata": {},
   "outputs": [
    {
     "name": "stdout",
     "output_type": "stream",
     "text": [
      "Matrix A:\n",
      " [[1 2 3]\n",
      " [4 5 6]\n",
      " [7 8 9]]\n",
      "Matrix B:\n",
      " [[9 8 7]\n",
      " [6 5 4]\n",
      " [3 2 1]]\n"
     ]
    }
   ],
   "source": [
    "# Create two matrices with the help of numpy\n",
    "matrix_a = np.array([[1, 2, 3], [4, 5, 6], [7, 8, 9]])\n",
    "matrix_b = np.array([[9, 8, 7], [6, 5, 4], [3, 2, 1]])\n",
    "print(\"Matrix A:\\n\", matrix_a)\n",
    "print(\"Matrix B:\\n\", matrix_b)\n"
   ]
  },
  {
   "cell_type": "code",
   "execution_count": 4,
   "metadata": {},
   "outputs": [
    {
     "name": "stdout",
     "output_type": "stream",
     "text": [
      "Matrix A + Matrix B:\n",
      " [[10 10 10]\n",
      " [10 10 10]\n",
      " [10 10 10]]\n"
     ]
    }
   ],
   "source": [
    "# Matrix addition\n",
    "result_addition = matrix_a + matrix_b\n",
    "print(\"Matrix A + Matrix B:\\n\", result_addition)"
   ]
  },
  {
   "cell_type": "code",
   "execution_count": 5,
   "metadata": {},
   "outputs": [
    {
     "name": "stdout",
     "output_type": "stream",
     "text": [
      "Matrix A * Matrix B:\n",
      " [[ 30  24  18]\n",
      " [ 84  69  54]\n",
      " [138 114  90]]\n"
     ]
    }
   ],
   "source": [
    "# Matrix multiplication\n",
    "result_multiplication = np.dot(matrix_a, matrix_b)\n",
    "print(\"Matrix A * Matrix B:\\n\", result_multiplication)\n"
   ]
  },
  {
   "cell_type": "code",
   "execution_count": 6,
   "metadata": {},
   "outputs": [
    {
     "name": "stdout",
     "output_type": "stream",
     "text": [
      "Transpose of Matrix A:\n",
      " [[1 4 7]\n",
      " [2 5 8]\n",
      " [3 6 9]]\n",
      "Transpose of Matrix B:\n",
      " [[9 6 3]\n",
      " [8 5 2]\n",
      " [7 4 1]]\n"
     ]
    }
   ],
   "source": [
    "# Transpose of a matrix\n",
    "transpose_a = np.transpose(matrix_a)\n",
    "transpose_b = np.transpose(matrix_b)\n",
    "print(\"Transpose of Matrix A:\\n\", transpose_a)\n",
    "print(\"Transpose of Matrix B:\\n\", transpose_b)"
   ]
  }
 ],
 "metadata": {
  "kernelspec": {
   "display_name": "base",
   "language": "python",
   "name": "python3"
  },
  "language_info": {
   "codemirror_mode": {
    "name": "ipython",
    "version": 3
   },
   "file_extension": ".py",
   "mimetype": "text/x-python",
   "name": "python",
   "nbconvert_exporter": "python",
   "pygments_lexer": "ipython3",
   "version": "3.9.13"
  }
 },
 "nbformat": 4,
 "nbformat_minor": 2
}
